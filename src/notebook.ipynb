{
 "cells": [
  {
   "cell_type": "code",
   "execution_count": 1,
   "metadata": {},
   "outputs": [],
   "source": [
    "%load_ext Cython"
   ]
  },
  {
   "cell_type": "code",
   "execution_count": 2,
   "metadata": {},
   "outputs": [],
   "source": [
    "from collections import Counter, namedtuple\n",
    "import numpy as np\n",
    "from typing import Tuple, List, Optional, Sequence"
   ]
  },
  {
   "cell_type": "code",
   "execution_count": null,
   "metadata": {},
   "outputs": [],
   "source": [
    "ar = np.sqrt(np.array([.5, 1, 2]))\n",
    "scale = np.array([8, 16, 32])"
   ]
  },
  {
   "cell_type": "code",
   "execution_count": null,
   "metadata": {},
   "outputs": [],
   "source": [
    "x_out, y_out = (32, 32)\n",
    "y, x = np.meshgrid(np.arange(x_out), np.arange(y_out))\n",
    "base_h, base_w = 32, 32"
   ]
  },
  {
   "cell_type": "code",
   "execution_count": null,
   "metadata": {},
   "outputs": [],
   "source": [
    "x = x.reshape(-1, ).repeat(9)\n",
    "y = y.reshape(-1, ).repeat(9)\n",
    "x = x * base_w + base_w / 2\n",
    "y = y * base_h + base_h / 2"
   ]
  },
  {
   "cell_type": "code",
   "execution_count": null,
   "metadata": {},
   "outputs": [],
   "source": [
    "ar = np.tile(ar, x_out * y_out).repeat(3)\n",
    "scale = np.tile(scale, x_out * y_out * 3)"
   ]
  },
  {
   "cell_type": "code",
   "execution_count": null,
   "metadata": {
    "scrolled": true
   },
   "outputs": [],
   "source": [
    "hs = np.round(base_h * scale * ar).astype(int)\n",
    "ws = np.round(base_w * scale / ar).astype(int)"
   ]
  },
  {
   "cell_type": "code",
   "execution_count": null,
   "metadata": {},
   "outputs": [],
   "source": [
    "boxes = np.vstack([x, y, ws, hs]).T"
   ]
  },
  {
   "cell_type": "code",
   "execution_count": 11,
   "metadata": {},
   "outputs": [],
   "source": [
    "def generate_anchors(\n",
    "    stride: int = 16,\n",
    "    scales: List[int] = [8, 16, 32],\n",
    "    ratios: List[int] = [1, 0.5, 2],\n",
    "    base_dist: Optional[int] = None,\n",
    ") -> np.ndarray:\n",
    "    \"\"\"computes anchor boxes for a given stride, scales and aspect ratios.\n",
    "        Number of anchors = stride ** 2 * scales * aspect_ratio\n",
    "\n",
    "    Keyword Arguments:\n",
    "        stride {int} -- the subsampling ratio of the output feature map (default: {16})\n",
    "        scales {List[int]} -- list of scales (default: {[8, 16, 32]})\n",
    "        ratios {List[int]} -- list of aspect ratios (default: {[1, 0.5, 2]})\n",
    "\n",
    "    Returns:\n",
    "        [np.ndarray] -- shape: `(stride * stride * scales * ratios, 4)`\n",
    "    \"\"\"\n",
    "    base_dist = base_dist if base_dist is not None else stride\n",
    "\n",
    "    x_out, y_out = stride, stride\n",
    "    base_h, base_w = base_dist, base_dist\n",
    "    y, x = np.meshgrid(np.arange(x_out), np.arange(y_out))\n",
    "\n",
    "    x = x.reshape(-1,).repeat(len(scales) * len(ratios))\n",
    "    y = y.reshape(-1,).repeat(len(scales) * len(ratios))\n",
    "    x = x * base_w + base_w / 2\n",
    "    y = y * base_h + base_h / 2\n",
    "\n",
    "    ratios = np.tile(np.array(ratios), x_out * y_out).repeat(3)\n",
    "    scales = np.tile(np.array(scales), x_out * y_out * 3)\n",
    "\n",
    "    hs = np.round(base_h * scales * ratios).astype(int)\n",
    "    ws = np.round(base_w * scales / ratios).astype(int)\n",
    "\n",
    "    return np.vstack([x, y, ws, hs]).T\n",
    "\n",
    "def hw_to_minmax(bbox: np.ndarray, max_dim: Tuple[int, int]) -> np.ndarray:\n",
    "    \"\"\"given a set of bounding (anchor) boxes in the format `(x_center, y_center, width, height)`,\n",
    "        transforms them to `(x_min, y_min, x_max, y_max)` format\n",
    "    \"\"\"\n",
    "    boxes = np.zeros_like(bbox, dtype=np.int32)\n",
    "    max_x, max_y = max_dim\n",
    "\n",
    "    boxes[:, 0], boxes[:, 2] = (\n",
    "        np.maximum(bbox[:, 0] - bbox[:, 2] / 2, 0).astype(int),\n",
    "        np.minimum(bbox[:, 0] + bbox[:, 2] / 2, max_x).astype(int),\n",
    "    )\n",
    "\n",
    "    boxes[:, 1], boxes[:, 3] = (\n",
    "        np.maximum(bbox[:, 1] - bbox[:, 3] / 2, 0).astype(int),\n",
    "        np.minimum(bbox[:, 1] + bbox[:, 3] / 2, max_y).astype(int),\n",
    "    )\n",
    "    return boxes"
   ]
  },
  {
   "cell_type": "code",
   "execution_count": 44,
   "metadata": {},
   "outputs": [],
   "source": [
    "%%cython\n",
    "\n",
    "cimport cython\n",
    "import numpy as np\n",
    "cimport numpy as np\n",
    "\n",
    "DTYPE = np.float32\n",
    "ctypedef np.float32_t DTYPE_t\n",
    "#ctypedef np\n",
    "\n",
    "@cython.boundscheck(False)\n",
    "@cython.wraparound(False)\n",
    "def bbox_overlaps(\n",
    "        np.ndarray[DTYPE_t, ndim=2] boxes,\n",
    "        np.ndarray[DTYPE_t, ndim=2] query_boxes):\n",
    "    \"\"\"\n",
    "    Parameters\n",
    "    ----------\n",
    "    boxes: (N, 4) ndarray of float\n",
    "    query_boxes: (K, 4) ndarray of float\n",
    "    Returns\n",
    "    -------\n",
    "    overlaps: (N, K) ndarray of overlap between boxes and query_boxes\n",
    "    \"\"\"\n",
    "    cdef unsigned int N = boxes.shape[0]\n",
    "    cdef unsigned int K = query_boxes.shape[0]\n",
    "    cdef np.ndarray[DTYPE_t, ndim=2] overlaps = np.zeros((N, K), dtype=DTYPE)\n",
    "    cdef DTYPE_t iw, ih, box_area\n",
    "    cdef DTYPE_t ua\n",
    "    cdef unsigned int k, n\n",
    "    for k in range(K):\n",
    "        box_area = (\n",
    "            (query_boxes[k, 2] - query_boxes[k, 0] + 1) *\n",
    "            (query_boxes[k, 3] - query_boxes[k, 1] + 1)\n",
    "        )\n",
    "        for n in range(N):\n",
    "            iw = (\n",
    "                min(boxes[n, 2], query_boxes[k, 2]) -\n",
    "                max(boxes[n, 0], query_boxes[k, 0]) + 1\n",
    "            )\n",
    "            if iw > 0:\n",
    "                ih = (\n",
    "                    min(boxes[n, 3], query_boxes[k, 3]) -\n",
    "                    max(boxes[n, 1], query_boxes[k, 1]) + 1\n",
    "                )\n",
    "                if ih > 0:\n",
    "                    ua = float(\n",
    "                        (boxes[n, 2] - boxes[n, 0] + 1) *\n",
    "                        (boxes[n, 3] - boxes[n, 1] + 1) +\n",
    "                        box_area - iw * ih\n",
    "                    )\n",
    "                    overlaps[n, k] = iw * ih / ua\n",
    "    return overlaps"
   ]
  },
  {
   "cell_type": "code",
   "execution_count": 32,
   "metadata": {},
   "outputs": [],
   "source": [
    "def bbox_iou(bbox_a, bbox_b):\n",
    "    \"\"\"Calculate the Intersection of Unions (IoUs) between bounding boxes.\n",
    "    IoU is calculated as a ratio of area of the intersection\n",
    "    and area of the union.\n",
    "    This function accepts both :obj:`numpy.ndarray` and :obj:`cupy.ndarray` as\n",
    "    inputs. Please note that both :obj:`bbox_a` and :obj:`bbox_b` need to be\n",
    "    same type.\n",
    "    The output is same type as the type of the inputs.\n",
    "    Args:\n",
    "        bbox_a (array): An array whose shape is :math:`(N, 4)`.\n",
    "            :math:`N` is the number of bounding boxes.\n",
    "            The dtype should be :obj:`numpy.float32`.\n",
    "        bbox_b (array): An array similar to :obj:`bbox_a`,\n",
    "            whose shape is :math:`(K, 4)`.\n",
    "            The dtype should be :obj:`numpy.float32`.\n",
    "    Returns:\n",
    "        array:\n",
    "        An array whose shape is :math:`(N, K)`. \\\n",
    "        An element at index :math:`(n, k)` contains IoUs between \\\n",
    "        :math:`n` th bounding box in :obj:`bbox_a` and :math:`k` th bounding \\\n",
    "        box in :obj:`bbox_b`.\n",
    "    \"\"\"\n",
    "    if bbox_a.shape[1] != 4 or bbox_b.shape[1] != 4:\n",
    "        raise IndexError\n",
    "\n",
    "    # top left\n",
    "    tl = np.maximum(bbox_a[:, None, :2], bbox_b[:, :2])\n",
    "    # bottom right\n",
    "    br = np.minimum(bbox_a[:, None, 2:], bbox_b[:, 2:])\n",
    "\n",
    "    area_i = np.prod(br - tl, axis=2) * (tl < br).all(axis=2)\n",
    "    area_a = np.prod(bbox_a[:, 2:] - bbox_a[:, :2], axis=1)\n",
    "    area_b = np.prod(bbox_b[:, 2:] - bbox_b[:, :2], axis=1)\n",
    "    return area_i / (area_a[:, None] + area_b - area_i)"
   ]
  },
  {
   "cell_type": "code",
   "execution_count": 28,
   "metadata": {},
   "outputs": [],
   "source": [
    "def get_area(bbox):\n",
    "    return (bbox[2] - bbox[0]) * (bbox[3] - bbox[1])\n",
    "\n",
    "def iou(box1, box2, eps = 1e-7):\n",
    "    xmin = max(box1[0], box2[0])\n",
    "    ymin = max(box1[1], box2[1])\n",
    "    xmax = min(box1[2], box2[2])\n",
    "    ymax = min(box1[3], box2[3])\n",
    "    if (xmin >= xmax) or (ymin >= ymax):\n",
    "        return 0\n",
    "    intersection = (xmax - xmin) * (ymax - ymin)\n",
    "    union = get_area(box1) + get_area(box2) - intersection\n",
    "    return intersection / (union + eps)\n",
    "\n",
    "def iou_vectorized(anchors, bbox, eps = 1e-7):\n",
    "    xmin = np.maximum(anchors[:, 0], bbox[0])\n",
    "    ymin = np.maximum(anchors[:, 1], bbox[1])\n",
    "    xmax = np.minimum(anchors[:, 2], bbox[2])\n",
    "    ymax = np.minimum(anchors[:, 3], bbox[3])\n",
    "    \n",
    "    intersection = np.maximum((xmax - xmin) * (ymax - ymin), 0.)\n",
    "    intersection[np.where((xmin >= xmax) | (ymin >= ymax))[0]] = 0.\n",
    "    union = (anchors[:, 2] - anchors[:, 0]) * (anchors[:, 3] - anchors[:, 1]) + get_area(bbox) - intersection\n",
    "    return intersection / (union + 1e-7)\n",
    "\n",
    "def make_labels(anchors, boxes, ignore = -1, img_dim = 512, n_classes = 1):\n",
    "    minmax_anchors = hw_to_minmax(anchors, max_dim=(img_dim, img_dim)).astype(np.float32)\n",
    "    class_ids, gt_boxes = [], []\n",
    "    for box in boxes:\n",
    "        class_ids.append(box.class_id)\n",
    "        gt_boxes.append(list(box.bbox))\n",
    "    \n",
    "    \n",
    "    return minmax_anchors, np.array(gt_boxes).astype(np.float32)\n",
    "    #print(minmax_anchors.)\n",
    "    #ious = bbox_overlaps(minmax_anchors, np.array(gt_boxes).astype(np.float32))\n",
    "    #cls_gt = np.repeat(ignore, len(anchors) * n_classes).reshape(len(anchors), n_classes)\n",
    "#     #cls_gt = []\n",
    "#     for box in boxes: \n",
    "#         class_id = box.class_id\n",
    "#         bbox = list(box.bbox)\n",
    "#         ious = iou_vectorized(minmax_anchors, bbox)\n",
    "#         cls_gt[np.where(ious > 0.7)[0], class_id - 1] = 1\n",
    "        \n",
    "#         if (cls_gt == ignore).all():\n",
    "#             cls_gt[np.argmax(ious), class_id - 1] = 1\n",
    "    \n",
    "#         cls_gt[np.where(ious < 0.3)[0], class_id - 1] = 0\n",
    "\n",
    "    return ious"
   ]
  },
  {
   "cell_type": "code",
   "execution_count": 8,
   "metadata": {},
   "outputs": [],
   "source": [
    "Bbox = namedtuple('Bbox', 'xmin ymin xmax ymax')\n",
    "Label = namedtuple('Label', ['class_id', 'bbox'])"
   ]
  },
  {
   "cell_type": "code",
   "execution_count": 9,
   "metadata": {},
   "outputs": [],
   "source": [
    "lbl1 = Label(1, Bbox(0, 0, 140, 140))\n",
    "lbl2 = Label(1, Bbox(20, 60, 200, 350))\n",
    "lbl = [lbl1, lbl2]"
   ]
  },
  {
   "cell_type": "code",
   "execution_count": 12,
   "metadata": {},
   "outputs": [],
   "source": [
    "anchors = generate_anchors(stride=32)"
   ]
  },
  {
   "cell_type": "code",
   "execution_count": 29,
   "metadata": {},
   "outputs": [],
   "source": [
    "anchors, gt_boxes = make_labels(anchors, lbl, img_dim=1024, ignore=255)"
   ]
  },
  {
   "cell_type": "code",
   "execution_count": 41,
   "metadata": {},
   "outputs": [
    {
     "name": "stdout",
     "output_type": "stream",
     "text": [
      "CPU times: user 202 µs, sys: 12 µs, total: 214 µs\n",
      "Wall time: 206 µs\n"
     ]
    }
   ],
   "source": [
    "%%time\n",
    "iou1 = bbox_overlaps(anchors, gt_boxes)"
   ]
  },
  {
   "cell_type": "code",
   "execution_count": 36,
   "metadata": {},
   "outputs": [
    {
     "name": "stdout",
     "output_type": "stream",
     "text": [
      "CPU times: user 1.1 ms, sys: 921 µs, total: 2.03 ms\n",
      "Wall time: 1.11 ms\n"
     ]
    }
   ],
   "source": [
    "%%time\n",
    "iou2 = bbox_iou(anchors, gt_boxes)"
   ]
  },
  {
   "cell_type": "code",
   "execution_count": 39,
   "metadata": {},
   "outputs": [],
   "source": [
    "max_iou = iou1.max(axis=1)"
   ]
  },
  {
   "cell_type": "code",
   "execution_count": null,
   "metadata": {},
   "outputs": [],
   "source": []
  }
 ],
 "metadata": {
  "kernelspec": {
   "display_name": "conda3 (deep_learning)",
   "language": "python",
   "name": "deep_learning"
  },
  "language_info": {
   "codemirror_mode": {
    "name": "ipython",
    "version": 3
   },
   "file_extension": ".py",
   "mimetype": "text/x-python",
   "name": "python",
   "nbconvert_exporter": "python",
   "pygments_lexer": "ipython3",
   "version": "3.7.4"
  }
 },
 "nbformat": 4,
 "nbformat_minor": 2
}
